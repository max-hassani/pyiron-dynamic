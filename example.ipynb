{
 "cells": [
  {
   "cell_type": "code",
   "execution_count": 1,
   "id": "827447de",
   "metadata": {},
   "outputs": [],
   "source": [
    "from pyiron_base import Project"
   ]
  },
  {
   "cell_type": "code",
   "execution_count": 2,
   "id": "94d0c7b5",
   "metadata": {},
   "outputs": [
    {
     "data": {
      "application/vnd.jupyter.widget-view+json": {
       "model_id": "1c3d12348e0f4cb49c32c1c35a2338df",
       "version_major": 2,
       "version_minor": 0
      },
      "text/plain": [
       "  0%|          | 0/1 [00:00<?, ?it/s]"
      ]
     },
     "metadata": {},
     "output_type": "display_data"
    }
   ],
   "source": [
    "pr = Project(\"test\")\n",
    "pr.remove_jobs(recursive=True, silently=True)"
   ]
  },
  {
   "cell_type": "code",
   "execution_count": 3,
   "id": "8d26333b",
   "metadata": {},
   "outputs": [
    {
     "data": {
      "application/json": {
       "a": "1",
       "b": "[1, 2, 3]"
      },
      "text/html": [
       "<pre>DataContainer({\n",
       "  \"a\": \"1\",\n",
       "  \"b\": \"[1, 2, 3]\"\n",
       "})</pre>"
      ],
      "text/plain": [
       "DataContainer({'a': 1, 'b': [1, 2, 3]})"
      ]
     },
     "execution_count": 3,
     "metadata": {},
     "output_type": "execute_result"
    }
   ],
   "source": [
    "job = pr.create.job.TensileTest(\"demo\")\n",
    "job.input"
   ]
  },
  {
   "cell_type": "code",
   "execution_count": null,
   "id": "fbb62828",
   "metadata": {},
   "outputs": [],
   "source": [
    "job.input.height = 10\n",
    "job.input.diameter = 2\n",
    "job.input.displ = [0, -0.1, -0.25]"
   ]
  },
  {
   "cell_type": "code",
   "execution_count": null,
   "id": "825244ed",
   "metadata": {},
   "outputs": [],
   "source": [
    "job.input"
   ]
  },
  {
   "cell_type": "code",
   "execution_count": 4,
   "id": "d9602251",
   "metadata": {},
   "outputs": [
    {
     "name": "stdout",
     "output_type": "stream",
     "text": [
      "The job script was saved and received the ID: script\n"
     ]
    },
    {
     "data": {
      "application/vnd.jupyter.widget-view+json": {
       "model_id": "e9e46a15bfe949fe8a83898270955317",
       "version_major": 2,
       "version_minor": 0
      },
      "text/plain": [
       "  0%|          | 0/1 [00:00<?, ?it/s]"
      ]
     },
     "metadata": {},
     "output_type": "display_data"
    }
   ],
   "source": [
    "job.run()"
   ]
  },
  {
   "cell_type": "code",
   "execution_count": 5,
   "id": "94d477ab",
   "metadata": {},
   "outputs": [
    {
     "data": {
      "text/plain": [
       "{'a': 1,\n",
       " 'b': [1, 2, 3],\n",
       " 'project_dir': '/Users/jan/pyiron/projects/2022/2022-02-21-scriptjob/test'}"
      ]
     },
     "execution_count": 5,
     "metadata": {},
     "output_type": "execute_result"
    }
   ],
   "source": [
    "job[\"output\"].to_object().to_builtin()"
   ]
  },
  {
   "cell_type": "code",
   "execution_count": 6,
   "id": "2da36aed",
   "metadata": {},
   "outputs": [],
   "source": [
    "job = pr.load(\"script\")"
   ]
  },
  {
   "cell_type": "code",
   "execution_count": 7,
   "id": "b97c1a00",
   "metadata": {},
   "outputs": [
    {
     "data": {
      "text/plain": [
       "{'groups': ['input', 'output'], 'nodes': ['HDF_VERSION', 'NAME', 'TYPE', 'VERSION', 'server', 'status']}"
      ]
     },
     "execution_count": 7,
     "metadata": {},
     "output_type": "execute_result"
    }
   ],
   "source": [
    "job"
   ]
  }
 ],
 "metadata": {
  "kernelspec": {
   "display_name": "Python 3 (ipykernel)",
   "language": "python",
   "name": "python3"
  },
  "language_info": {
   "codemirror_mode": {
    "name": "ipython",
    "version": 3
   },
   "file_extension": ".py",
   "mimetype": "text/x-python",
   "name": "python",
   "nbconvert_exporter": "python",
   "pygments_lexer": "ipython3",
   "version": "3.10.2"
  }
 },
 "nbformat": 4,
 "nbformat_minor": 5
}
